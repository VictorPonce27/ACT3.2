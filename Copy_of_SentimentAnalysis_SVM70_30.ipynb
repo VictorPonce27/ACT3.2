{
  "cells": [
    {
      "cell_type": "markdown",
      "metadata": {
        "id": "view-in-github",
        "colab_type": "text"
      },
      "source": [
        "<a href=\"https://colab.research.google.com/github/VictorPonce27/ACT3.2/blob/master/Copy_of_SentimentAnalysis_SVM70_30.ipynb\" target=\"_parent\"><img src=\"https://colab.research.google.com/assets/colab-badge.svg\" alt=\"Open In Colab\"/></a>"
      ]
    },
    {
      "cell_type": "markdown",
      "metadata": {
        "id": "FB86vumM0XUb"
      },
      "source": [
        "# Librerías necesarias"
      ]
    },
    {
      "cell_type": "code",
      "execution_count": 6,
      "metadata": {
        "id": "Zf1dIzMN0fbS"
      },
      "outputs": [],
      "source": [
        "import pandas as pd\n",
        "import numpy as np"
      ]
    },
    {
      "cell_type": "code",
      "execution_count": 2,
      "metadata": {
        "id": "skAJoA7I03pJ"
      },
      "outputs": [],
      "source": [
        "from sklearn.feature_extraction.text import TfidfVectorizer\n",
        "from sklearn.model_selection import train_test_split\n",
        "#import tensorflow as tf\n",
        "import time\n",
        "from sklearn import svm\n",
        "from sklearn.metrics import classification_report\n",
        "import tensorflow as tf\n",
        "from keras.utils import pad_sequences\n",
        "from keras.preprocessing.text import Tokenizer\n",
        "import matplotlib.pyplot as plt"
      ]
    },
    {
      "cell_type": "markdown",
      "metadata": {
        "id": "jficPu-LtipM"
      },
      "source": [
        "# Cargando el conjunto de datos"
      ]
    },
    {
      "cell_type": "code",
      "execution_count": 7,
      "metadata": {
        "id": "nUv03le0zurO",
        "colab": {
          "base_uri": "https://localhost:8080/"
        },
        "outputId": "e1fdd658-1b6c-40e9-c1f4-12651d017b57"
      },
      "outputs": [
        {
          "output_type": "stream",
          "name": "stdout",
          "text": [
            "Drive already mounted at /content/gdrive; to attempt to forcibly remount, call drive.mount(\"/content/gdrive\", force_remount=True).\n",
            "/content\n",
            "Drive already mounted at /content/gdrive; to attempt to forcibly remount, call drive.mount(\"/content/gdrive\", force_remount=True).\n",
            "/content/gdrive/Shareddrives/Compiladores/Data\n"
          ]
        }
      ],
      "source": [
        "from google.colab import drive\n",
        "\n",
        "drive.mount(\"/content/gdrive\")  \n",
        "!pwd  # show current path "
      ]
    },
    {
      "cell_type": "code",
      "execution_count": 9,
      "metadata": {
        "id": "MYC2rqQ-0Q6P",
        "colab": {
          "base_uri": "https://localhost:8080/"
        },
        "outputId": "09322d27-228f-4d4b-9aa4-26b713822453"
      },
      "outputs": [
        {
          "output_type": "stream",
          "name": "stdout",
          "text": [
            "/content/gdrive/Shareddrives/Compiladores/Data\n",
            "'IMDB Dataset.csv'   model.pk1\t tokenizer.pkl\t  vectorizer.pkl\n",
            " LSTM.pkl\t     model.pkl\t vectorizer.pk1\n"
          ]
        }
      ],
      "source": [
        "%cd \"/content/gdrive/Shareddrives/Compiladores/Data\"\n",
        "!ls  # show current directory"
      ]
    },
    {
      "cell_type": "code",
      "execution_count": 10,
      "metadata": {
        "id": "KQn6JZ2W0ja3"
      },
      "outputs": [],
      "source": [
        "data = pd.read_csv('IMDB Dataset.csv')"
      ]
    },
    {
      "cell_type": "code",
      "source": [
        "dataTemp = pd.DataFrame(data)"
      ],
      "metadata": {
        "id": "Hey_IYsN1eDi"
      },
      "execution_count": 11,
      "outputs": []
    },
    {
      "cell_type": "markdown",
      "metadata": {
        "id": "aPeKdjxGt50l"
      },
      "source": [
        "# Exploración de datos"
      ]
    },
    {
      "cell_type": "code",
      "execution_count": null,
      "metadata": {
        "id": "Nkiz1sACvbwr"
      },
      "outputs": [],
      "source": [
        "#data.head(15)\n",
        "#data = data.head(4500)"
      ]
    },
    {
      "cell_type": "code",
      "execution_count": null,
      "metadata": {
        "id": "AD5iAFGgsMRc",
        "colab": {
          "base_uri": "https://localhost:8080/"
        },
        "outputId": "3eb8ef23-f0d4-4b46-a58f-00b648d0a908"
      },
      "outputs": [
        {
          "output_type": "stream",
          "name": "stdout",
          "text": [
            "<class 'pandas.core.frame.DataFrame'>\n",
            "RangeIndex: 50000 entries, 0 to 49999\n",
            "Data columns (total 2 columns):\n",
            " #   Column     Non-Null Count  Dtype \n",
            "---  ------     --------------  ----- \n",
            " 0   review     50000 non-null  object\n",
            " 1   sentiment  50000 non-null  object\n",
            "dtypes: object(2)\n",
            "memory usage: 781.4+ KB\n"
          ]
        }
      ],
      "source": [
        "data.info()"
      ]
    },
    {
      "cell_type": "code",
      "execution_count": null,
      "metadata": {
        "id": "LECG5zV1sx64",
        "colab": {
          "base_uri": "https://localhost:8080/"
        },
        "outputId": "4bc5c3cf-fd18-43b6-e70b-582777eceaa0"
      },
      "outputs": [
        {
          "output_type": "execute_result",
          "data": {
            "text/plain": [
              "review       0\n",
              "sentiment    0\n",
              "dtype: int64"
            ]
          },
          "metadata": {},
          "execution_count": 9
        }
      ],
      "source": [
        "data.isnull().sum()"
      ]
    },
    {
      "cell_type": "markdown",
      "metadata": {
        "id": "05F8fJU8uRnT"
      },
      "source": [
        "**Observaciones:**\n",
        "* Nuestro dataframe cuenta con dos columnas de tipo objeto y 5000 entradas.\n",
        "* Nuestro dataframe no presenta datos nulos.\n",
        "* En nuestra columna de review podemos observar caracteres que forman parte de sintaxis HTML los cuales tendrán que ser removidos de los textos, ya que no aportan información relevante para el análisis, al igual que los links porque estos redirigen a información adicional que no es requisito para este enfoque.\n"
      ]
    },
    {
      "cell_type": "code",
      "execution_count": 12,
      "metadata": {
        "id": "KuovFEEL00Z9"
      },
      "outputs": [],
      "source": [
        "sentiment = data['sentiment']\n",
        "review = data['review']"
      ]
    },
    {
      "cell_type": "code",
      "execution_count": null,
      "metadata": {
        "id": "eVUMkRZv05Zw",
        "colab": {
          "base_uri": "https://localhost:8080/"
        },
        "outputId": "caee71ac-5902-48ad-f6b5-3b35015ed674"
      },
      "outputs": [
        {
          "output_type": "execute_result",
          "data": {
            "text/plain": [
              "count        50000\n",
              "unique           2\n",
              "top       positive\n",
              "freq         25000\n",
              "Name: sentiment, dtype: object"
            ]
          },
          "metadata": {},
          "execution_count": 11
        }
      ],
      "source": [
        "sentiment.describe()"
      ]
    },
    {
      "cell_type": "markdown",
      "metadata": {
        "id": "YNP4HKXfT5o0"
      },
      "source": [
        "Observaciones:\n",
        "* nuestra columna sentiment solo cuenta con dos tipos de sentimientos positive y negative"
      ]
    },
    {
      "cell_type": "code",
      "execution_count": 13,
      "metadata": {
        "id": "bDiK_oeX1DPD",
        "colab": {
          "base_uri": "https://localhost:8080/"
        },
        "outputId": "cfc4e034-00fb-445f-c0a7-99da4a8428f6"
      },
      "outputs": [
        {
          "output_type": "execute_result",
          "data": {
            "text/plain": [
              "count                                                 50000\n",
              "unique                                                49582\n",
              "top       Loved today's show!!! It was a variety and not...\n",
              "freq                                                      5\n",
              "Name: review, dtype: object"
            ]
          },
          "metadata": {},
          "execution_count": 13
        }
      ],
      "source": [
        "review.describe()"
      ]
    },
    {
      "cell_type": "markdown",
      "source": [
        "Remove the HTML element that is on the review and simplify the tags"
      ],
      "metadata": {
        "id": "QctfFpvME6dv"
      }
    },
    {
      "cell_type": "code",
      "execution_count": 14,
      "metadata": {
        "id": "N6Hz_YYv16h-"
      },
      "outputs": [],
      "source": [
        "def transformSentiment(sentiment):\n",
        "  if sentiment==\"positive\":\n",
        "    return \"pos\"\n",
        "  return \"neg\"\n",
        "\n",
        "def transformReview(review):\n",
        "  return review.replace(\"<br />\",\"\")"
      ]
    },
    {
      "cell_type": "code",
      "execution_count": 15,
      "metadata": {
        "id": "ElH4HDvM1NMk"
      },
      "outputs": [],
      "source": [
        "sentiment = sentiment.map(transformSentiment)"
      ]
    },
    {
      "cell_type": "code",
      "execution_count": 16,
      "metadata": {
        "id": "HibeO0-pz0U_"
      },
      "outputs": [],
      "source": [
        "review = review.map(transformReview)"
      ]
    },
    {
      "cell_type": "markdown",
      "source": [
        "Here we can see the review without the br element "
      ],
      "metadata": {
        "id": "FcvvNbgBGwuU"
      }
    },
    {
      "cell_type": "code",
      "execution_count": null,
      "metadata": {
        "id": "vi22Vb1Iz5LS",
        "colab": {
          "base_uri": "https://localhost:8080/"
        },
        "outputId": "8621833a-b5df-41d0-ea23-daf58c6b3e42"
      },
      "outputs": [
        {
          "output_type": "execute_result",
          "data": {
            "text/plain": [
              "0    One of the other reviewers has mentioned that ...\n",
              "1    A wonderful little production. The filming tec...\n",
              "2    I thought this was a wonderful way to spend ti...\n",
              "3    Basically there's a family where a little boy ...\n",
              "4    Petter Mattei's \"Love in the Time of Money\" is...\n",
              "5    Probably my all-time favorite movie, a story o...\n",
              "6    I sure would like to see a resurrection of a u...\n",
              "7    This show was an amazing, fresh & innovative i...\n",
              "8    Encouraged by the positive comments about this...\n",
              "9    If you like original gut wrenching laughter yo...\n",
              "Name: review, dtype: object"
            ]
          },
          "metadata": {},
          "execution_count": 17
        }
      ],
      "source": [
        "review.head(10)"
      ]
    },
    {
      "cell_type": "code",
      "execution_count": 17,
      "metadata": {
        "id": "AXr44BDP0EE0",
        "colab": {
          "base_uri": "https://localhost:8080/"
        },
        "outputId": "983d9a6b-6a86-447a-977a-630c5c76e3ab"
      },
      "outputs": [
        {
          "output_type": "execute_result",
          "data": {
            "text/plain": [
              "count                                                 50000\n",
              "unique                                                49581\n",
              "top       Loved today's show!!! It was a variety and not...\n",
              "freq                                                      5\n",
              "Name: review, dtype: object"
            ]
          },
          "metadata": {},
          "execution_count": 17
        }
      ],
      "source": [
        "review.describe()"
      ]
    },
    {
      "cell_type": "code",
      "execution_count": null,
      "metadata": {
        "id": "oYDRYkfs1JX3"
      },
      "outputs": [],
      "source": [
        "#sentiment.plot.hist()"
      ]
    },
    {
      "cell_type": "code",
      "execution_count": 18,
      "metadata": {
        "id": "3XoSigOs1O0-"
      },
      "outputs": [],
      "source": [
        "data['sentiment'] = sentiment\n",
        "data['review']= review"
      ]
    },
    {
      "cell_type": "markdown",
      "source": [
        "Split the dataset in train and test, at the moment we divided 80% for test and 20% for training, the reason is that the SVM takes a lot of time, so by doing this we reduce the training time and the results are still good."
      ],
      "metadata": {
        "id": "Z463UF4jFBgO"
      }
    },
    {
      "cell_type": "code",
      "execution_count": 19,
      "metadata": {
        "id": "RZ5nHZFN1ae5"
      },
      "outputs": [],
      "source": [
        "X_train, X_test, y_train, y_test = train_test_split(review, sentiment, test_size=0.2, random_state=42)"
      ]
    },
    {
      "cell_type": "code",
      "execution_count": null,
      "metadata": {
        "id": "wtfvAj_H2GAn"
      },
      "outputs": [],
      "source": [
        "#train_dataset = from_tensor_slices((X_train, y_train))\n",
        "#test_dataset = from_tensor_slices((X_test, y_test))"
      ]
    },
    {
      "cell_type": "code",
      "execution_count": 20,
      "metadata": {
        "id": "Dwl-o__P6xNW",
        "colab": {
          "base_uri": "https://localhost:8080/"
        },
        "outputId": "a645382b-9340-485b-b3de-c02ac1833a68"
      },
      "outputs": [
        {
          "output_type": "execute_result",
          "data": {
            "text/plain": [
              "count                                                 40000\n",
              "unique                                                39743\n",
              "top       Loved today's show!!! It was a variety and not...\n",
              "freq                                                      4\n",
              "Name: review, dtype: object"
            ]
          },
          "metadata": {},
          "execution_count": 20
        }
      ],
      "source": [
        "X_train.describe()"
      ]
    },
    {
      "cell_type": "markdown",
      "source": [
        "Use the vectorizer to process the reviews"
      ],
      "metadata": {
        "id": "KIVhfHrUFiT6"
      }
    },
    {
      "cell_type": "code",
      "execution_count": 21,
      "metadata": {
        "id": "Ajo2NMRk0Hpx"
      },
      "outputs": [],
      "source": [
        "\n",
        "vectorizer = TfidfVectorizer()\n",
        "train_vectors = vectorizer.fit_transform(X_train)\n",
        "test_vectors = vectorizer.transform(X_test)"
      ]
    },
    {
      "cell_type": "markdown",
      "source": [
        "Create and train the SVM with a linear kernel, at the end get the report of the model and how it recognizes positive and negative emotions."
      ],
      "metadata": {
        "id": "7kkJzMzyFqWk"
      }
    },
    {
      "cell_type": "code",
      "execution_count": null,
      "metadata": {
        "id": "8H_XqFRM2nxu"
      },
      "outputs": [],
      "source": [
        "\n",
        "classifier_linear = svm.SVC(kernel='linear')\n",
        "classifier_linear.fit(train_vectors, y_train)\n",
        "prediction_linear = classifier_linear.predict(test_vectors)\n",
        "report = classification_report(y_test, prediction_linear, output_dict=True)\n",
        "print('positive: ', report['pos'])\n",
        "print('negative: ', report['neg'])\n"
      ]
    },
    {
      "cell_type": "markdown",
      "source": [
        "Test with a review"
      ],
      "metadata": {
        "id": "xU8k9z0AF19E"
      }
    },
    {
      "cell_type": "code",
      "source": [
        "print(\"result\", report['accuracy'])"
      ],
      "metadata": {
        "id": "dyncKxnsjAYi"
      },
      "execution_count": null,
      "outputs": []
    },
    {
      "cell_type": "code",
      "execution_count": null,
      "metadata": {
        "id": "-XS5i5Dc3KGY",
        "colab": {
          "base_uri": "https://localhost:8080/",
          "height": 184
        },
        "outputId": "4375edf8-2c81-4896-c0bb-d25f0c0b0176"
      },
      "outputs": [
        {
          "output_type": "error",
          "ename": "NameError",
          "evalue": "ignored",
          "traceback": [
            "\u001b[0;31m---------------------------------------------------------------------------\u001b[0m",
            "\u001b[0;31mNameError\u001b[0m                                 Traceback (most recent call last)",
            "\u001b[0;32m<ipython-input-1-8a7321f5594c>\u001b[0m in \u001b[0;36m<cell line: 1>\u001b[0;34m()\u001b[0m\n\u001b[0;32m----> 1\u001b[0;31m \u001b[0mreview_vector\u001b[0m \u001b[0;34m=\u001b[0m \u001b[0mvectorizer\u001b[0m\u001b[0;34m.\u001b[0m\u001b[0mtransform\u001b[0m\u001b[0;34m(\u001b[0m\u001b[0;34m[\u001b[0m\u001b[0;34m\"The movie was long and that made it difficult to digest but actors were great, i hated that i loved it\"\u001b[0m\u001b[0;34m]\u001b[0m\u001b[0;34m)\u001b[0m \u001b[0;31m# vectorizing\u001b[0m\u001b[0;34m\u001b[0m\u001b[0;34m\u001b[0m\u001b[0m\n\u001b[0m\u001b[1;32m      2\u001b[0m \u001b[0mprint\u001b[0m\u001b[0;34m(\u001b[0m\u001b[0mclassifier_linear\u001b[0m\u001b[0;34m.\u001b[0m\u001b[0mpredict\u001b[0m\u001b[0;34m(\u001b[0m\u001b[0mreview_vector\u001b[0m\u001b[0;34m)\u001b[0m\u001b[0;34m)\u001b[0m\u001b[0;34m\u001b[0m\u001b[0;34m\u001b[0m\u001b[0m\n",
            "\u001b[0;31mNameError\u001b[0m: name 'vectorizer' is not defined"
          ]
        }
      ],
      "source": [
        "review_vector = vectorizer.transform([\"The movie was long and that made it difficult to digest but actors were great, i hated that i loved it\"]) # vectorizing\n",
        "print(classifier_linear.predict(review_vector))"
      ]
    },
    {
      "cell_type": "code",
      "source": [
        "import joblib"
      ],
      "metadata": {
        "id": "_zlV5P6mCK04"
      },
      "execution_count": null,
      "outputs": []
    },
    {
      "cell_type": "markdown",
      "source": [
        "## Saving the model for future uses\n",
        "\n",
        "This lines of code saves the model to use it in the future without a new training.\n",
        "Also we need to save the vectorizer"
      ],
      "metadata": {
        "id": "Ey8sVQsIF5BC"
      }
    },
    {
      "cell_type": "markdown",
      "source": [
        "Save the model"
      ],
      "metadata": {
        "id": "Zf9PfnYtCY4t"
      }
    },
    {
      "cell_type": "code",
      "source": [
        "#joblib.dump(classifier_linear,'model.pkl')\n",
        "#joblib.dump(vectorizer, 'vectorizer.pkl')"
      ],
      "metadata": {
        "id": "kc69k7OWuLfG"
      },
      "execution_count": null,
      "outputs": []
    },
    {
      "cell_type": "markdown",
      "source": [
        "## Running the model without training again\n",
        "\n",
        "Just load the saved models and enter your text for a new prediction\n",
        "Remember to connect to google drive with te code block that is at the beggining"
      ],
      "metadata": {
        "id": "8adO5xClCh8F"
      }
    },
    {
      "cell_type": "code",
      "source": [
        "!ls"
      ],
      "metadata": {
        "colab": {
          "base_uri": "https://localhost:8080/"
        },
        "id": "bA5mjkL3C2uK",
        "outputId": "8451163c-74f2-4db4-f340-52aff9f652c0"
      },
      "execution_count": null,
      "outputs": [
        {
          "output_type": "stream",
          "name": "stdout",
          "text": [
            "'IMDB Dataset.csv'   model.pk1\t model.pkl   vectorizer.pk1   vectorizer.pkl\n"
          ]
        }
      ]
    },
    {
      "cell_type": "markdown",
      "source": [
        "Here we load the classifier and the vectorizer to use them without training the model again"
      ],
      "metadata": {
        "id": "rDhkOx-_GG-S"
      }
    },
    {
      "cell_type": "code",
      "source": [
        "classifier_linear = joblib.load('model.pkl')\n",
        "vectorizer = joblib.load('vectorizer.pkl')"
      ],
      "metadata": {
        "id": "Ugn64lziCbwW",
        "colab": {
          "base_uri": "https://localhost:8080/",
          "height": 184
        },
        "outputId": "9e05ef6a-d7df-471a-e4a4-7b38cec30147"
      },
      "execution_count": null,
      "outputs": [
        {
          "output_type": "error",
          "ename": "NameError",
          "evalue": "ignored",
          "traceback": [
            "\u001b[0;31m---------------------------------------------------------------------------\u001b[0m",
            "\u001b[0;31mNameError\u001b[0m                                 Traceback (most recent call last)",
            "\u001b[0;32m<ipython-input-21-1f9888a5311a>\u001b[0m in \u001b[0;36m<cell line: 1>\u001b[0;34m()\u001b[0m\n\u001b[0;32m----> 1\u001b[0;31m \u001b[0mclassifier_linear\u001b[0m \u001b[0;34m=\u001b[0m \u001b[0mjoblib\u001b[0m\u001b[0;34m.\u001b[0m\u001b[0mload\u001b[0m\u001b[0;34m(\u001b[0m\u001b[0;34m'model.pkl'\u001b[0m\u001b[0;34m)\u001b[0m\u001b[0;34m\u001b[0m\u001b[0;34m\u001b[0m\u001b[0m\n\u001b[0m\u001b[1;32m      2\u001b[0m \u001b[0mvectorizer\u001b[0m \u001b[0;34m=\u001b[0m \u001b[0mjoblib\u001b[0m\u001b[0;34m.\u001b[0m\u001b[0mload\u001b[0m\u001b[0;34m(\u001b[0m\u001b[0;34m'vectorizer.pkl'\u001b[0m\u001b[0;34m)\u001b[0m\u001b[0;34m\u001b[0m\u001b[0;34m\u001b[0m\u001b[0m\n",
            "\u001b[0;31mNameError\u001b[0m: name 'joblib' is not defined"
          ]
        }
      ]
    },
    {
      "cell_type": "markdown",
      "source": [
        "Here we can test any review we want"
      ],
      "metadata": {
        "id": "yiSv_WPgGOJx"
      }
    },
    {
      "cell_type": "code",
      "source": [
        "#review_vector = vectorizer.transform([\"I loved the movie\"]) \n",
        "#review_vector = vectorizer.transform([\"\"\"Up until today, I haven't bothered to review \"The Godfather\". After all, everyone pretty much knows it's one of the greatest films ever made. It's #2 on IMDb's Top 100. It won the Best Picture Oscar. And, there are nearly 1600 reviews on IMDb. So what's one more review?! Well, after completing 14,000 reviews (because I am nuts), I guess it's time I got around to reviewing a film I should have reviewed a long time ago. So, here goes....the film is perfect and only a dope wouldn't watch it. Unfortunately, IMDb requires me to say more to meet it's 10 line minimum for reviews. So, I'll point out that you do NOT need to like gangster films to enjoy this film. Yes, it's violent and nasty in spots--but it's also brilliantly written and produced from start to finish and deserves the accolades it's received.\n",
        "\n",
        "# My advice is that instead of just watching \"The Godfather\" and \"The Godfather: Part II\", see the combined version they created for television--with additional scenes that made it a very rich experience.\"\"\"]) \n",
        "review_vector = vectorizer.transform([\"I didn't like how much i enjoy it\"]) \n",
        "\n",
        "print(classifier_linear.predict(review_vector))"
      ],
      "metadata": {
        "id": "3LjF1p5eCnWG",
        "colab": {
          "base_uri": "https://localhost:8080/"
        },
        "outputId": "90c58fed-07c2-44a8-a13f-1acdd1688705"
      },
      "execution_count": null,
      "outputs": [
        {
          "output_type": "stream",
          "name": "stdout",
          "text": [
            "['pos']\n"
          ]
        }
      ]
    },
    {
      "cell_type": "markdown",
      "source": [
        "Up until today, I haven't bothered to review \"The Godfather\". After all, everyone pretty much knows it's one of the greatest films ever made. It's #2 on IMDb's Top 100. It won the Best Picture Oscar. And, there are nearly 1600 reviews on IMDb. So what's one more review?! Well, after completing 14,000 reviews (because I am nuts), I guess it's time I got around to reviewing a film I should have reviewed a long time ago. So, here goes....the film is perfect and only a dope wouldn't watch it. Unfortunately, IMDb requires me to say more to meet it's 10 line minimum for reviews. So, I'll point out that you do NOT need to like gangster films to enjoy this film. Yes, it's violent and nasty in spots--but it's also brilliantly written and produced from start to finish and deserves the accolades it's received.\n",
        "\n",
        "My advice is that instead of just watching \"The Godfather\" and \"The Godfather: Part II\", see the combined version they created for television--with additional scenes that made it a very rich experience."
      ],
      "metadata": {
        "id": "ofsIDQduqyB-"
      }
    },
    {
      "cell_type": "markdown",
      "source": [
        "# Neural network"
      ],
      "metadata": {
        "id": "f_S51lflqsCO"
      }
    },
    {
      "cell_type": "code",
      "source": [
        "# # Create a copy of the df to implement in the neural network\n",
        "\n",
        "dfEncoded = pd.DataFrame(data)\n",
        "\n",
        "dataTemp['sentiment'].mask(dataTemp['sentiment'] == 'positive', 1, inplace=True)\n",
        "dataTemp['sentiment'].mask(dataTemp['sentiment'] == 'negative', 0, inplace=True)\n",
        "\n",
        "sentiment = dataTemp['sentiment']  # Target variable\n",
        "\n"
      ],
      "metadata": {
        "id": "wA9loqV2qrM_"
      },
      "execution_count": null,
      "outputs": []
    },
    {
      "cell_type": "code",
      "source": [
        "\n",
        "# The maximum number of words to be used. (most frequent)\n",
        "MAX_NB_WORDS = 50000\n",
        "# Max number of words in each complaint.\n",
        "MAX_SEQUENCE_LENGTH = 250\n",
        "# This is fixed.\n",
        "EMBEDDING_DIM = 100"
      ],
      "metadata": {
        "id": "dVBlmAurzLHL"
      },
      "execution_count": null,
      "outputs": []
    },
    {
      "cell_type": "code",
      "source": [
        "# Tokenize the text\n",
        "tokenizer = Tokenizer(num_words=MAX_NB_WORDS, filters='!\"#$%&()*+,-./:;<=>?@[\\]^_`{|}~', lower=True)\n",
        "tokenizer.fit_on_texts(dfEncoded['review'].values)\n",
        "word_index = tokenizer.word_index\n",
        "print('Found %s unique tokens.' % len(word_index))"
      ],
      "metadata": {
        "colab": {
          "base_uri": "https://localhost:8080/"
        },
        "id": "qBC1d6-bzOcH",
        "outputId": "0512e276-50e9-467d-93ae-f5650d4c5bb7"
      },
      "execution_count": null,
      "outputs": [
        {
          "output_type": "stream",
          "name": "stdout",
          "text": [
            "Found 126566 unique tokens.\n"
          ]
        }
      ]
    },
    {
      "cell_type": "code",
      "source": [
        "# Convert text to sequences\n",
        "sequences = tokenizer.texts_to_sequences(dfEncoded['review'].values)\n",
        "# Pad sequences\n",
        "X = pad_sequences(sequences, maxlen=MAX_SEQUENCE_LENGTH)\n",
        "print('Shape of data tensor:', X.shape)"
      ],
      "metadata": {
        "colab": {
          "base_uri": "https://localhost:8080/"
        },
        "id": "jF3dpkou0ArD",
        "outputId": "effce461-e72f-4f26-ba29-a7e5887b08fa"
      },
      "execution_count": null,
      "outputs": [
        {
          "output_type": "stream",
          "name": "stdout",
          "text": [
            "Shape of data tensor: (50000, 250)\n"
          ]
        }
      ]
    },
    {
      "cell_type": "code",
      "source": [
        "# Convert categorical labels to numbers\n",
        "Y = pd.get_dummies(dataTemp['sentiment']).values\n",
        "print('Shape of label tensor:', Y.shape)"
      ],
      "metadata": {
        "colab": {
          "base_uri": "https://localhost:8080/"
        },
        "id": "ySlTtk2-oNDl",
        "outputId": "2f5d2bcd-1e3c-496b-959f-528667a9a8f4"
      },
      "execution_count": null,
      "outputs": [
        {
          "output_type": "stream",
          "name": "stdout",
          "text": [
            "Shape of label tensor: (50000, 2)\n"
          ]
        }
      ]
    },
    {
      "cell_type": "code",
      "source": [
        "# Train test split\n",
        "X_train, X_test, Y_train, Y_test = train_test_split(X, Y, test_size=0.3, random_state=42)\n",
        "print(X_train.shape, Y_train.shape)\n",
        "print(X_test.shape, Y_test.shape)"
      ],
      "metadata": {
        "colab": {
          "base_uri": "https://localhost:8080/"
        },
        "id": "pRYORTRh0ilF",
        "outputId": "34aadf07-6519-42d0-bd53-411707131f70"
      },
      "execution_count": null,
      "outputs": [
        {
          "output_type": "stream",
          "name": "stdout",
          "text": [
            "(35000, 250) (35000, 2)\n",
            "(15000, 250) (15000, 2)\n"
          ]
        }
      ]
    },
    {
      "cell_type": "code",
      "source": [
        "# Define LSTM model\n",
        "model = tf.keras.Sequential([\n",
        "    tf.keras.layers.Embedding(MAX_NB_WORDS, EMBEDDING_DIM, input_length=X.shape[1]),\n",
        "    tf.keras.layers.SpatialDropout1D(0.2),\n",
        "    tf.keras.layers.LSTM(100, dropout=0.2, recurrent_dropout=0.2),\n",
        "    tf.keras.layers.Dense(2, activation='softmax')\n",
        "])"
      ],
      "metadata": {
        "id": "eaD46Ml70TvO",
        "colab": {
          "base_uri": "https://localhost:8080/"
        },
        "outputId": "9ea12cbf-750a-4f04-f569-b4d98bc80acb"
      },
      "execution_count": null,
      "outputs": [
        {
          "output_type": "stream",
          "name": "stderr",
          "text": [
            "WARNING:tensorflow:Layer lstm will not use cuDNN kernels since it doesn't meet the criteria. It will use a generic GPU kernel as fallback when running on GPU.\n"
          ]
        }
      ]
    },
    {
      "cell_type": "code",
      "source": [
        "model.compile(loss='categorical_crossentropy', optimizer='adam', metrics=['accuracy'])\n",
        "print(model.summary())"
      ],
      "metadata": {
        "colab": {
          "base_uri": "https://localhost:8080/"
        },
        "id": "xN9BbDrQ0VuI",
        "outputId": "081f6c47-72e1-46e3-c5ee-6a145d31843f"
      },
      "execution_count": null,
      "outputs": [
        {
          "output_type": "stream",
          "name": "stdout",
          "text": [
            "Model: \"sequential\"\n",
            "_________________________________________________________________\n",
            " Layer (type)                Output Shape              Param #   \n",
            "=================================================================\n",
            " embedding (Embedding)       (None, 250, 100)          5000000   \n",
            "                                                                 \n",
            " spatial_dropout1d (SpatialD  (None, 250, 100)         0         \n",
            " ropout1D)                                                       \n",
            "                                                                 \n",
            " lstm (LSTM)                 (None, 100)               80400     \n",
            "                                                                 \n",
            " dense (Dense)               (None, 2)                 202       \n",
            "                                                                 \n",
            "=================================================================\n",
            "Total params: 5,080,602\n",
            "Trainable params: 5,080,602\n",
            "Non-trainable params: 0\n",
            "_________________________________________________________________\n",
            "None\n"
          ]
        }
      ]
    },
    {
      "cell_type": "code",
      "source": [
        "# Train the model\n",
        "epochs = 5\n",
        "batch_size = 64"
      ],
      "metadata": {
        "id": "V0apKN1v0nNB"
      },
      "execution_count": null,
      "outputs": []
    },
    {
      "cell_type": "code",
      "source": [
        "history = model.fit(X_train, Y_train, epochs=epochs, batch_size=batch_size, validation_split=0.1)\n"
      ],
      "metadata": {
        "colab": {
          "base_uri": "https://localhost:8080/"
        },
        "id": "9ZJhydKL0ogF",
        "outputId": "b20aa3be-3979-4224-a81c-307e439fc984"
      },
      "execution_count": null,
      "outputs": [
        {
          "output_type": "stream",
          "name": "stdout",
          "text": [
            "Epoch 1/5\n",
            "493/493 [==============================] - 664s 1s/step - loss: 0.3958 - accuracy: 0.8156 - val_loss: 0.2859 - val_accuracy: 0.8883\n",
            "Epoch 2/5\n",
            "493/493 [==============================] - 589s 1s/step - loss: 0.1994 - accuracy: 0.9249 - val_loss: 0.2965 - val_accuracy: 0.8857\n",
            "Epoch 3/5\n",
            "493/493 [==============================] - 565s 1s/step - loss: 0.1237 - accuracy: 0.9564 - val_loss: 0.3495 - val_accuracy: 0.8669\n",
            "Epoch 4/5\n",
            "493/493 [==============================] - 558s 1s/step - loss: 0.0873 - accuracy: 0.9700 - val_loss: 0.3719 - val_accuracy: 0.8754\n",
            "Epoch 5/5\n",
            "493/493 [==============================] - 557s 1s/step - loss: 0.0658 - accuracy: 0.9773 - val_loss: 0.4079 - val_accuracy: 0.8769\n"
          ]
        }
      ]
    },
    {
      "cell_type": "code",
      "source": [
        "# Validate the model\n",
        "loss, accuracy = model.evaluate(X_train, Y_train)\n",
        "print('Test set\\n  Loss: {:0.3f}\\n  Accuracy: {:0.3f}'.format(loss, accuracy))"
      ],
      "metadata": {
        "colab": {
          "base_uri": "https://localhost:8080/"
        },
        "id": "xV7xRbVT9xrC",
        "outputId": "601ab5dd-5b8c-40bb-948f-9a4abae57082"
      },
      "execution_count": null,
      "outputs": [
        {
          "output_type": "stream",
          "name": "stdout",
          "text": [
            "1250/1250 [==============================] - 81s 65ms/step - loss: 0.0798 - accuracy: 0.9778\n",
            "Test set\n",
            "  Loss: 0.080\n",
            "  Accuracy: 0.978\n"
          ]
        }
      ]
    },
    {
      "cell_type": "code",
      "source": [
        "# Validate the model\n",
        "loss, accuracy = model.evaluate(X_test, Y_test)\n",
        "print('Test set\\n  Loss: {:0.3f}\\n  Accuracy: {:0.3f}'.format(loss, accuracy))"
      ],
      "metadata": {
        "colab": {
          "base_uri": "https://localhost:8080/"
        },
        "id": "ow8gC0KU17k4",
        "outputId": "a6211ad0-35f8-4bdf-8034-37fb10a7ef88"
      },
      "execution_count": null,
      "outputs": [
        {
          "output_type": "stream",
          "name": "stdout",
          "text": [
            "313/313 [==============================] - 21s 67ms/step - loss: 0.4427 - accuracy: 0.8859\n",
            "Test set\n",
            "  Loss: 0.443\n",
            "  Accuracy: 0.886\n"
          ]
        }
      ]
    },
    {
      "cell_type": "markdown",
      "source": [
        "# Guardar el modelo"
      ],
      "metadata": {
        "id": "JkeFmdpH-V_U"
      }
    },
    {
      "cell_type": "code",
      "source": [
        "# joblib.dump(history,'LSTM.pkl')\n",
        "# joblib.dump(tokenizer, 'tokenizer.pkl')"
      ],
      "metadata": {
        "colab": {
          "base_uri": "https://localhost:8080/"
        },
        "id": "d4uEBPEq9wga",
        "outputId": "1ccff795-2404-47dd-ac3d-98a324d50232"
      },
      "execution_count": null,
      "outputs": [
        {
          "output_type": "execute_result",
          "data": {
            "text/plain": [
              "['tokenizer.pkl']"
            ]
          },
          "metadata": {},
          "execution_count": 55
        }
      ]
    },
    {
      "cell_type": "markdown",
      "source": [
        "# Prueba manual"
      ],
      "metadata": {
        "id": "AdVqJ0v7_9tk"
      }
    },
    {
      "cell_type": "code",
      "source": [
        "# Texto de prueba\n",
        "texto = \"I didn't like how much i enjoy it\"\n",
        "\n",
        "# Tokenizar el texto\n",
        "texto_seq = tokenizer.texts_to_sequences([texto])\n",
        "# Aplicar padding\n",
        "texto_padded = pad_sequences(texto_seq, maxlen=MAX_SEQUENCE_LENGTH)"
      ],
      "metadata": {
        "id": "p5yXdsY8_85H"
      },
      "execution_count": null,
      "outputs": []
    },
    {
      "cell_type": "code",
      "source": [
        "# Realizar la predicción\n",
        "prediccion = model.predict(texto_padded)"
      ],
      "metadata": {
        "colab": {
          "base_uri": "https://localhost:8080/"
        },
        "id": "LnwzTyRgAe6W",
        "outputId": "6cb33c2d-0860-4360-ae38-9b35228e93e1"
      },
      "execution_count": null,
      "outputs": [
        {
          "output_type": "stream",
          "name": "stdout",
          "text": [
            "1/1 [==============================] - 0s 85ms/step\n"
          ]
        }
      ]
    },
    {
      "cell_type": "code",
      "source": [
        "# Obtener la clase predicha\n",
        "clase_predicha = np.argmax(prediccion)"
      ],
      "metadata": {
        "id": "JZi_NJBmAhUi"
      },
      "execution_count": null,
      "outputs": []
    },
    {
      "cell_type": "code",
      "source": [
        "clase_predicha"
      ],
      "metadata": {
        "colab": {
          "base_uri": "https://localhost:8080/"
        },
        "id": "YSIWSltKA6Fn",
        "outputId": "89abf17b-1aa0-4f1a-f5c7-db1b04ce8e24"
      },
      "execution_count": null,
      "outputs": [
        {
          "output_type": "execute_result",
          "data": {
            "text/plain": [
              "1"
            ]
          },
          "metadata": {},
          "execution_count": 80
        }
      ]
    },
    {
      "cell_type": "markdown",
      "source": [
        "# Gráficas"
      ],
      "metadata": {
        "id": "fToYJk3h_Ina"
      }
    },
    {
      "cell_type": "code",
      "source": [
        "# Gráfica de pérdida\n",
        "plt.plot(history.history['loss'])\n",
        "plt.plot(history.history['val_loss'])\n",
        "plt.title('Modelo de pérdida')\n",
        "plt.ylabel('Pérdida')\n",
        "plt.xlabel('Época')\n",
        "plt.legend(['Entrenamiento', 'Validación'], loc='upper right')\n",
        "plt.show()"
      ],
      "metadata": {
        "colab": {
          "base_uri": "https://localhost:8080/",
          "height": 474
        },
        "id": "pO62ZrXI_AFj",
        "outputId": "f7065221-3791-4c25-de46-e089c2996316"
      },
      "execution_count": null,
      "outputs": [
        {
          "output_type": "display_data",
          "data": {
            "text/plain": [
              "<Figure size 640x480 with 1 Axes>"
            ],
            "image/png": "[encoded data removed]"
          },
          "metadata": {}
        }
      ]
    },
    {
      "cell_type": "code",
      "source": [
        "# Gráfica de precisión\n",
        "plt.plot(history.history['accuracy'])\n",
        "plt.plot(history.history['val_accuracy'])\n",
        "plt.title('Modelo de precisión')\n",
        "plt.ylabel('Precisión')\n",
        "plt.xlabel('Época')\n",
        "plt.legend(['Entrenamiento', 'Validación'], loc='lower right')\n",
        "plt.show()"
      ],
      "metadata": {
        "colab": {
          "base_uri": "https://localhost:8080/",
          "height": 474
        },
        "id": "8ZeO6xB1_V_A",
        "outputId": "113426fe-bb04-4b0d-dfad-25df631cbcc6"
      },
      "execution_count": null,
      "outputs": [
        {
          "output_type": "display_data",
          "data": {
            "text/plain": [
              "<Figure size 640x480 with 1 Axes>"
            ],
            "image/png": "[encoded data removed]"
          },
          "metadata": {}
        }
      ]
    }
  ],
  "metadata": {
    "colab": {
      "provenance": [],
      "gpuType": "T4",
      "include_colab_link": true
    },
    "kernelspec": {
      "display_name": "Python 3",
      "name": "python3"
    },
    "language_info": {
      "name": "python"
    },
    "accelerator": "GPU"
  },
  "nbformat": 4,
  "nbformat_minor": 0
}